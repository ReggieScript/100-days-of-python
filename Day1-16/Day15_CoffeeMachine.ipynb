{
 "cells": [
  {
   "cell_type": "code",
   "execution_count": 7,
   "metadata": {},
   "outputs": [],
   "source": [
    "MENU = {\n",
    "    \"espresso\": {\n",
    "        \"ingredients\": {\n",
    "            \"water\": 50,\n",
    "            \"coffee\": 18,\n",
    "        },\n",
    "        \"cost\": 1.5,\n",
    "    },\n",
    "    \"latte\": {\n",
    "        \"ingredients\": {\n",
    "            \"water\": 200,\n",
    "            \"milk\": 150,\n",
    "            \"coffee\": 24,\n",
    "        },\n",
    "        \"cost\": 2.5,\n",
    "    },\n",
    "    \"cappuccino\": {\n",
    "        \"ingredients\": {\n",
    "            \"water\": 250,\n",
    "            \"milk\": 100,\n",
    "            \"coffee\": 24,\n",
    "        },\n",
    "        \"cost\": 3.0,\n",
    "    }\n",
    "}\n",
    "\n",
    "resources = {\n",
    "    \"water\": 300,\n",
    "    \"milk\": 200,\n",
    "    \"coffee\": 100,\n",
    "    \"money\": 0,\n",
    "}"
   ]
  },
  {
   "cell_type": "code",
   "execution_count": 8,
   "metadata": {},
   "outputs": [],
   "source": [
    "def report():\n",
    "    print(f\"Water: {resources['water']} ml\")\n",
    "    print(f\"Milk: {resources['milk']} ml\")\n",
    "    print(f\"Coffee: {resources['coffee']} g\")\n",
    "\n",
    "\n",
    "global order_milk\n",
    "global order_water\n",
    "global order_coffee\n",
    "global res_milk\n",
    "global res_water\n",
    "global res_coffee\n",
    "\n",
    "\n",
    "def ingredients(order):\n",
    "    res_milk = resources['milk']\n",
    "    res_water = resources['water']\n",
    "    res_coffee = resources['coffee']\n",
    "\n",
    "    if order == 'espresso':\n",
    "        order_milk = {}\n",
    "    else:\n",
    "        order_milk = MENU[order]['ingredients']['milk']\n",
    "\n",
    "    order_water = MENU[order]['ingredients']['water']\n",
    "    order_coffee = MENU[order]['ingredients']['coffee']\n",
    "\n",
    "    if (order_milk > res_milk) or (order_water > res_water) or (order_coffee > res_coffee):\n",
    "        if (order_milk > res_milk):\n",
    "            print(\"Sorry, there's not enogh milk.\")\n",
    "        if (order_water > res_water):\n",
    "            print(\"Sorry, there's not enogh water.\")\n",
    "        if (order_coffee > res_coffee):\n",
    "            print(\"Sorry, there's not enogh coffee.\")\n",
    "        return False\n",
    "\n",
    "\n",
    "def new_resources():\n",
    "\n",
    "    resources['milk'] = res_milk-order_milk\n",
    "    resources['water'] = res_water-order_water\n",
    "    resources['coffee'] = res_coffee-order_coffee\n"
   ]
  },
  {
   "cell_type": "code",
   "execution_count": 9,
   "metadata": {},
   "outputs": [
    {
     "name": "stdout",
     "output_type": "stream",
     "text": [
      "The price is: $2.5 \n",
      "Please insert coins.\n",
      "41.0\n",
      "Here is $38.5 in change\n",
      "Here is your latte. Enjoy!\n"
     ]
    },
    {
     "ename": "NameError",
     "evalue": "name 'res_milk' is not defined",
     "output_type": "error",
     "traceback": [
      "\u001b[1;31m---------------------------------------------------------------------------\u001b[0m",
      "\u001b[1;31mNameError\u001b[0m                                 Traceback (most recent call last)",
      "\u001b[1;32mc:\\Users\\reegi\\Documents\\TEC\\100 days of python\\Day15_CoffeeMachine.ipynb Cell 3\u001b[0m in \u001b[0;36m<cell line: 2>\u001b[1;34m()\u001b[0m\n\u001b[0;32m     <a href='vscode-notebook-cell:/c%3A/Users/reegi/Documents/TEC/100%20days%20of%20python/Day15_CoffeeMachine.ipynb#W2sZmlsZQ%3D%3D?line=27'>28</a>\u001b[0m \u001b[39mprint\u001b[39m(\u001b[39mf\u001b[39m\u001b[39m\"\u001b[39m\u001b[39mHere is $\u001b[39m\u001b[39m{\u001b[39;00mchange\u001b[39m}\u001b[39;00m\u001b[39m in change\u001b[39m\u001b[39m\"\u001b[39m)\n\u001b[0;32m     <a href='vscode-notebook-cell:/c%3A/Users/reegi/Documents/TEC/100%20days%20of%20python/Day15_CoffeeMachine.ipynb#W2sZmlsZQ%3D%3D?line=28'>29</a>\u001b[0m \u001b[39mprint\u001b[39m(\u001b[39mf\u001b[39m\u001b[39m\"\u001b[39m\u001b[39mHere is your \u001b[39m\u001b[39m{\u001b[39;00morder\u001b[39m}\u001b[39;00m\u001b[39m. Enjoy!\u001b[39m\u001b[39m\"\u001b[39m)\n\u001b[1;32m---> <a href='vscode-notebook-cell:/c%3A/Users/reegi/Documents/TEC/100%20days%20of%20python/Day15_CoffeeMachine.ipynb#W2sZmlsZQ%3D%3D?line=29'>30</a>\u001b[0m new_resources()\n\u001b[0;32m     <a href='vscode-notebook-cell:/c%3A/Users/reegi/Documents/TEC/100%20days%20of%20python/Day15_CoffeeMachine.ipynb#W2sZmlsZQ%3D%3D?line=30'>31</a>\u001b[0m resources[\u001b[39m\"\u001b[39m\u001b[39mmoney\u001b[39m\u001b[39m\"\u001b[39m]\u001b[39m=\u001b[39mprice\n",
      "\u001b[1;32mc:\\Users\\reegi\\Documents\\TEC\\100 days of python\\Day15_CoffeeMachine.ipynb Cell 3\u001b[0m in \u001b[0;36mnew_resources\u001b[1;34m()\u001b[0m\n\u001b[0;32m     <a href='vscode-notebook-cell:/c%3A/Users/reegi/Documents/TEC/100%20days%20of%20python/Day15_CoffeeMachine.ipynb#W2sZmlsZQ%3D%3D?line=37'>38</a>\u001b[0m \u001b[39mdef\u001b[39;00m \u001b[39mnew_resources\u001b[39m():\n\u001b[1;32m---> <a href='vscode-notebook-cell:/c%3A/Users/reegi/Documents/TEC/100%20days%20of%20python/Day15_CoffeeMachine.ipynb#W2sZmlsZQ%3D%3D?line=39'>40</a>\u001b[0m     resources[\u001b[39m'\u001b[39m\u001b[39mmilk\u001b[39m\u001b[39m'\u001b[39m] \u001b[39m=\u001b[39m res_milk\u001b[39m-\u001b[39morder_milk\n\u001b[0;32m     <a href='vscode-notebook-cell:/c%3A/Users/reegi/Documents/TEC/100%20days%20of%20python/Day15_CoffeeMachine.ipynb#W2sZmlsZQ%3D%3D?line=40'>41</a>\u001b[0m     resources[\u001b[39m'\u001b[39m\u001b[39mwater\u001b[39m\u001b[39m'\u001b[39m] \u001b[39m=\u001b[39m res_water\u001b[39m-\u001b[39morder_water\n\u001b[0;32m     <a href='vscode-notebook-cell:/c%3A/Users/reegi/Documents/TEC/100%20days%20of%20python/Day15_CoffeeMachine.ipynb#W2sZmlsZQ%3D%3D?line=41'>42</a>\u001b[0m     resources[\u001b[39m'\u001b[39m\u001b[39mcoffee\u001b[39m\u001b[39m'\u001b[39m] \u001b[39m=\u001b[39m res_coffee\u001b[39m-\u001b[39morder_coffee\n",
      "\u001b[1;31mNameError\u001b[0m: name 'res_milk' is not defined"
     ]
    }
   ],
   "source": [
    "x=1\n",
    "while x==1:\n",
    "    order=input(\"What coffee would you like?(espresso/capuccino/latte)\\n\")\n",
    "    if order== 'report':\n",
    "        report()\n",
    "    else:\n",
    "        if ingredients(order)==False:\n",
    "            break\n",
    "        else:\n",
    "            price=MENU[order]['cost']\n",
    "            print(f\"The price is: ${price} \")\n",
    "\n",
    "            print(\"Please insert coins.\")\n",
    "\n",
    "            quarters=int(input(\"How many quarters?\\n\"))*0.25\n",
    "            dimes=int(input(\"How many dimes?\\n\"))*0.10\n",
    "            nickels=int(input(\"How many nickels?\\n\"))*0.05\n",
    "            pennies=int(input(\"How many pennies?\\n\"))*0.01\n",
    "\n",
    "            payment=quarters+dimes+nickels+pennies\n",
    "            print(payment)\n",
    "\n",
    "\n",
    "            if payment < price:\n",
    "                print(\"Sorry that's not enough money. Money refunded.\")\n",
    "            else:\n",
    "                change=payment-price\n",
    "                print(f\"Here is ${change} in change\")\n",
    "                print(f\"Here is your {order}. Enjoy!\")\n",
    "                new_resources()\n",
    "                resources[\"money\"]=price\n"
   ]
  },
  {
   "cell_type": "code",
   "execution_count": null,
   "metadata": {},
   "outputs": [],
   "source": []
  }
 ],
 "metadata": {
  "kernelspec": {
   "display_name": "Python 3.10.2 64-bit",
   "language": "python",
   "name": "python3"
  },
  "language_info": {
   "codemirror_mode": {
    "name": "ipython",
    "version": 3
   },
   "file_extension": ".py",
   "mimetype": "text/x-python",
   "name": "python",
   "nbconvert_exporter": "python",
   "pygments_lexer": "ipython3",
   "version": "3.10.2"
  },
  "orig_nbformat": 4,
  "vscode": {
   "interpreter": {
    "hash": "5d4a421a66b883af23abd7a96c33714941189b1b31646992b8977193ee649ec9"
   }
  }
 },
 "nbformat": 4,
 "nbformat_minor": 2
}
